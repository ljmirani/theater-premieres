{
 "cells": [
  {
   "cell_type": "markdown",
   "id": "497c78f4-43e0-4be5-9f1b-b77aea612490",
   "metadata": {},
   "source": [
    "# Scraping the website of the \"Schaubühne\""
   ]
  },
  {
   "cell_type": "markdown",
   "id": "5a159c4d",
   "metadata": {},
   "source": [
    "[schaubuehne website](https://www.schaubuehne.de/de/start/index.html)"
   ]
  },
  {
   "cell_type": "markdown",
   "id": "aac57c8a-0c55-4cda-80af-bb7571d22ca3",
   "metadata": {},
   "source": [
    "### Importing html with Beautiful Soup"
   ]
  },
  {
   "cell_type": "code",
   "execution_count": 2,
   "id": "f1121f86-fd67-44c2-ba11-ca37d716d018",
   "metadata": {},
   "outputs": [],
   "source": [
    "import requests"
   ]
  },
  {
   "cell_type": "code",
   "execution_count": 3,
   "id": "0a3709a1-f105-4e6f-8646-b84a3832e302",
   "metadata": {},
   "outputs": [],
   "source": [
    "from bs4 import BeautifulSoup"
   ]
  },
  {
   "cell_type": "code",
   "execution_count": 4,
   "id": "6b62433f",
   "metadata": {},
   "outputs": [],
   "source": [
    "import pandas as pd"
   ]
  },
  {
   "cell_type": "code",
   "execution_count": 5,
   "id": "410dd94c-07c8-42af-a40f-1329c9f8fe4c",
   "metadata": {},
   "outputs": [
    {
     "data": {
      "text/plain": [
       "<Response [200]>"
      ]
     },
     "execution_count": 5,
     "metadata": {},
     "output_type": "execute_result"
    }
   ],
   "source": [
    "sbühne_http_response = requests.get (\"https://www.schaubuehne.de/de/premieren/2024-25.html\")\n",
    "sbühne_http_response"
   ]
  },
  {
   "cell_type": "code",
   "execution_count": 6,
   "id": "a2d8285d-0f07-41e9-b6a6-642b9e9e2d76",
   "metadata": {},
   "outputs": [],
   "source": [
    "sbühne_html = sbühne_http_response.text"
   ]
  },
  {
   "cell_type": "code",
   "execution_count": 7,
   "id": "3b385892-dfdc-4fcb-b89e-4e65aa234b4a",
   "metadata": {
    "scrolled": true
   },
   "outputs": [
    {
     "name": "stdout",
     "output_type": "stream",
     "text": [
      "<!DOCTYPE html>\n",
      "<html lang=\"de\">\n",
      "<head>\n",
      "<base href=\"https://www.schaubuehne.de/de/\" />\n",
      "<meta name=\"google-site-verification\" content=\"eEc9v1XtKjDjOJN-5sBC5AYEq2QYtiXQ1_lXduY-wQQ\">\n",
      "<meta http-equiv=\"Content-Type\" content=\"text/html; charset=UTF-8\">\n",
      "<title>Schaubühne – Spielplan&nbsp;–&nbsp;Premieren</title>\n",
      "\n",
      "<meta name=\"viewport\" content=\"width=device-width, initial-scale=1, maximum-scale=1\" />\n",
      "<meta name=\"description\" content=\"Die Schaubühne ist ein Theater in Berlin. Die Website informiert über den Spielplan, Schauspieler, Regisseure, Gastspiele, Aktuelles. Tickets sind online im Webshop buchbar.\" />\n",
      "<meta name=\"keywords\" content=\"Schaubühne, Theater, Berlin, Lehniner Platz\" />\n",
      "<meta name=\"robots\" content=\"index,follow\" />\n",
      "<meta name=\"googlebot\"  content=\"index,follow\" />\n",
      "\n",
      "\n",
      "<link rel=\"stylesheet\" type=\"text/css\" href=\"./../assets/js/cookieconsent2/cookieconsent.min.css\" />\n",
      "\n",
      "\n",
      "<!-- Facebook -->\n",
      "<meta property=\"og:url\" content=\"https://www.schaubuehne.de/de/premieren/2024-25.html\"/>\n",
      "<meta property=\"og:site_name\" content=\"Schaubühne Berlin\"/>\n",
      "\n",
      "\t<meta property=\"og:title\" content=\"Premieren 1. Hälfte 2024/25\"/>\n",
      "\t<meta property=\"og:description\" content=\"Die Schaubühne ist ein Theater in Berlin. Die Website informiert über den Spielplan, Schauspieler, Regisseure, Gastspiele, Aktuelles. Tickets sind online im Webshop buchbar.\"/>\n",
      "\t<meta property=\"og:image\" content=\"\"/>\n",
      "\n",
      "\t<meta property=\"og:type\" content=\"event\">\n",
      "\n",
      "\n",
      "<link rel=\"stylesheet\" type=\"text/css\" href=\"https://use.typekit.net/frr2trm.css\" />\n",
      "\n",
      "<!-- Jquery -->\n",
      "<script type=\"text/javascript\" src=\"./../assets/js/jquery/jquery-3.4.1.min.js\"></script>\n",
      "<script type=\"text/javascript\" src=\"./../assets/js/jquery/jquery-ui.min.js\"></script>\n",
      "\n",
      "<!-- Fancybox -->\n",
      "<link rel=\"stylesheet\" href=\"./../assets/js/fancybox/jquery.fancybox.min.css\" />\n",
      "\n",
      "<!-- Slick -->\n",
      "<link rel=\"stylesheet\" type=\"text/css\" href=\"./../assets/js/slick/slick.css\">\n",
      "\n",
      "<script type=\"text/javascript\" src=\"./../assets/js/imagesLoaded.min.js\"></script>\n",
      "<script type=\"text/javascript\" src=\"./../assets/js/masonry.min.js\"></script>\n",
      "\n",
      "\n",
      "\n",
      "<script src=\"./../assets/js/cookieconsent2/cookieconsent.min.js\"></script>\n",
      "\n",
      "\t<script>\n",
      "\n",
      "\t// Cookiebanner\n",
      "\tvar cookie_status;\n",
      "\tvar cookieConsentOptions = {\n",
      "\t\t\"palette\": {\n",
      "\t\t\t\"popup\": {\n",
      "\t\t\t\t\"background\": \"#ffffff\",\n",
      "\t\t\t\t\"text\": \"#000000\"\n",
      "\t\t\t},\n",
      "\t\t\t\"button\": {\n",
      "\t\t\t\t\"background\": \"#ffffff\",\n",
      "\t\t\t\t\"text\": \"#000000\",\n",
      "\t\t\t\t\"border\": \"#000000\"\n",
      "\t\t\t}\n",
      "\t\t},\n",
      "\t\t\"revokable\": false,\n",
      "\t\t\"type\": \"opt-out\",\n",
      "\t\t\"content\": {\n",
      "\t\t\t\"message\": \"Diese Website verwendet Cookies. Alle Informationen dazu finden Sie in unserer <a href=\\\"./seiten/datenschutz.html\\\"> Datenschutzerklärung</a>.\",\n",
      "\t\t\t\"dismiss\": \"OK\",\n",
      "\t\t\t\"deny\": \"Ablehnen\",\n",
      "\t\t\t\"link\": false\n",
      "\n",
      "\t\t},\n",
      "\t\t\"onPopupOpen\": function() {\n",
      "\t\t\tcookie_status = Cookies.get(\"cookieconsent_status\");\n",
      "\t\t},\n",
      "\t};\n",
      "\n",
      "\tfunction initialiseCookieConsent() {\n",
      "\t\twindow.cookieconsent.initialise(cookieConsentOptions);\n",
      "\t}\n",
      "\n",
      "\tfunction showCookieBanner() {\n",
      "\t\tvar cookieConsentInstance = new cookieconsent.Popup(cookieConsentOptions);\n",
      "\t\tdocument.body.appendChild(cookieConsentInstance.element);\n",
      "\t\tcookieConsentInstance.open();\n",
      "\t}\n",
      "\n",
      "\t$(document).ready(function(){\n",
      "\t\tinitialiseCookieConsent();\n",
      "\t\tif (navigator.userAgent.indexOf('AddSearchBot') != -1) {\n",
      "\t\t\t$(\".cc-window\").hide();\n",
      "\t\t}\n",
      "\t\t$('#showCookieBanner').click(function(event) {\n",
      "\t\t\tshowCookieBanner();\n",
      "\t\t});\n",
      "\t});\n",
      "\t</script>\n",
      "\n",
      "<link rel=\"stylesheet\" href=\"./../assets/css/style.css?v=6\">\n",
      "\n",
      "</head>\n",
      "<body>\n",
      "<div class=\"min-vh-100 d-flex flex-column justify-content-between\">\n",
      "\t<div class=\"container-fluid p-0\">\n",
      "\t\t<div class=\"border-bottom px-3\">\n",
      "\t\t\t<div class=\"header d-flex justify-content-between align-items-end py-2\">\n",
      "\t\t\t\t<div class=\" logo\">\n",
      "\t\t\t\t\t<a href=\"./start/index.html\"><img class=\"w-100\" src=\"./../assets/images/logo.svg\" alt=\"Logo Schaubühne\" class=\"img-fluid\"/></a>\n",
      "\t\t\t\t</div>\n",
      "\t\t\t\t<div class=\"d-xl-none d-block \">\n",
      "\t\t\t\t\t<div class=\"d-flex justify-content-between align-items-end\">\n",
      "\t\t\t\t\t\t<div class=\"px-3 \">\n",
      "\t\t\t\t\t\t\t<a class=\"sprachswitchlink\" href=\"./../en/premieres/2024-25.html\">\n",
      "\t\t\t\t\t\t\t\t<span class=\"sprachswitch-icon\">\n",
      "\t\t\t\t\t\t\t\t\t\t\t\t\t\t\t\t\t\t\t<span class=\"sprachswitch-icon-en\"></span>\n",
      "\t\t\t\t\t\t\t\t\t\t\t\t\t\t\t\t\t</span>\n",
      "\t\t\t\t\t\t\t</a>\n",
      "\t\t\t\t\t\t</div>\n",
      "\t\t\t\t\t\t<div class=\"ps-2 \">\n",
      "\t\t\t\t\t\t\t<button class=\"open-menu\" type=\"button\" data-bs-toggle=\"collapse\" data-bs-target=\"#mainMenu\" aria-controls=\"mainMenu\" aria-expanded=\"false\" aria-label=\"Toggle navigation\">\n",
      "\t\t\t\t\t\t\t\t<span class=\"menu-icon\"></span>\n",
      "\t\t\t\t\t\t\t</button>\n",
      "\t\t\t\t\t\t</div>\n",
      "\t\t\t\t\t</div>\n",
      "\t\t\t\t</div>\n",
      "\t\t\t\t<div class=\"d-none d-xl-block\">\n",
      "\t\t\t\t\t<div id=\"navi2Container\">\n",
      "\t\t\t\t\t\t<nav id=\"navi2\" class=\" text-xl-end fs-xl-4\">\n",
      "\t\t\t\t\t\t\t    <ul class=\"list-unstyled w-100 justify-content-between d-xl-flex m-0 ms-xl-auto\">\n",
      "                    <li><a href=\"seiten/schaubuehne-leichte-sprache.html\" class=\"nav-link px-0 px-xl-2 py-0  fs-4 \" >Leichte Sprache</a></li>\n",
      "                    <li><a href=\"seiten/freundeskreis.html\" class=\"nav-link px-0 px-xl-2 py-0  fs-4 \" >Freundeskreis</a></li>\n",
      "                    <li><a href=\"https://schaubuehne.eventim-inhouse.de/webshop/webticket/shop?page=itemgroups\" class=\"nav-link px-0 px-xl-2 py-0  fs-4 \"  target=\"_blank\" >Webshop</a></li>\n",
      "                <li class=\"d-none d-xl-inline\"><a class=\"nav-link p-0 px-xl-1  py-1 py-xl-0\" href=\"./../en/premieres/2024-25.html\">EN</a></li>\n",
      "    </ul>\n",
      "\n",
      "\t\t\t\t\t\t</nav>\n",
      "\t\t\t\t\t</div>\n",
      "\t\t\t\t\t<div class=\" text-end\" id=\"searchContainer\">\n",
      "\t\t\t\t\t\t<div id=\"search\">\n",
      "\t\t\t\t\t\t\t<div class=\"input-group\">\n",
      "\t\t\t\t\t\t\t\t<input class=\"form-control addsearch fs-xl-4\"\n",
      "\t\t\t\t\t\t\t\t\ttype=\"text\"\n",
      "\t\t\t\t\t\t\t\t\tplaceholder=\"Suchen...\">\n",
      "\n",
      "\t\t\t\t\t\t\t\t<div class=\"fs-4\" id=\"showSearch\"><b>Suche</b></div>\n",
      "\t\t\t\t\t\t\t</div>\n",
      "\t\t\t\t\t\t</div>\n",
      "\t\t\t\t\t</div>\n",
      "\t\t\t\t</div>\n",
      "\t\t\t</div>\n",
      "\t\t</div>\n",
      "\n",
      "\t\t<div id=\"navi1\" class=\"sticky-xl-top\">\n",
      "    <nav class=\"container-fluid navbar navbar-expand-xl navbar-light bg-light py-0 p-0  position-absolute\">\n",
      "        <div class=\"collapse navbar-collapse \" style=\"--bs-columns: 7;\" id=\"mainMenu\">\n",
      "            <div id=\"mobileNaviContainer\">\n",
      "                                    <div class=\"list-unstyled active dropdown\">\n",
      "                        <span class=\"nav-link p-0 py-1 fs-1 fs-xl-2\">Spielplan</span>\n",
      "                                                    <ul class=\"dropdown-menu position-relative pt-0 pe-2 fs-2 fs-xl-3\">\n",
      "                                                                    <li class=\"lh-sm \"><a href=\"spielplan/programm.html\">Programm</a>\n",
      "                                                                            </li>\n",
      "                                                                    <li class=\"lh-sm \"><a href=\"premieren/2024-25.html\">Premieren </a>\n",
      "                                                                            </li>\n",
      "                                                                    <li class=\"lh-sm \"><a href=\"programm/index-2023-24.html\">Repertoire</a>\n",
      "                                                                            </li>\n",
      "                                                                    <li class=\"lh-sm \"><a href=\"seiten/studio.html\">Studio</a>\n",
      "                                                                            </li>\n",
      "                                                                    <li class=\"lh-sm \"><a href=\"seiten/kudamm-156.html\">Ku&#39;damm 156</a>\n",
      "                                                                            </li>\n",
      "                                                                    <li class=\"lh-sm pb-0\"><a href=\"seiten/streitraum-202223.html\">Gesprächsreihen</a>\n",
      "                                                                                    <ul class=\"position-relative p-0 pe-2 fs-2 fs-xl-3\">\n",
      "                                                                                                    <li><a href=\"seiten/streitraum-2024-25austausch-und-analyse-ueber-historische-verantwortung-und-nahost.html\">Streitraum</a></li>\n",
      "                                                                                                    <li><a href=\"seiten/klassenzimmer-2024-25woher-kommst-du-wirklich.html\">Klassenzimmer</a></li>\n",
      "                                                                                                    <li><a href=\"seiten/streit-ums-politische-2024-25einfach-links.html\">Streit ums Politische</a></li>\n",
      "                                                                                            </ul>\n",
      "                                                                            </li>\n",
      "                                                                    <li class=\"lh-sm \"><a href=\"seiten/gastspiele-202425.html\">Gastspiele</a>\n",
      "                                                                            </li>\n",
      "                                                                    <li class=\"lh-sm \"><a href=\"seiten/find-2024.html\">FIND</a>\n",
      "                                                                            </li>\n",
      "                                                            </ul>\n",
      "                                            </div>\n",
      "                                    <div class=\"list-unstyled  dropdown\">\n",
      "                        <span class=\"nav-link p-0 py-1 fs-1 fs-xl-2\">Karten</span>\n",
      "                                                    <ul class=\"dropdown-menu position-relative pt-0 pe-2 fs-2 fs-xl-3\">\n",
      "                                                                    <li class=\"lh-sm \"><a href=\"seiten/kartenverkauf.html\">Kartenverkauf</a>\n",
      "                                                                            </li>\n",
      "                                                                    <li class=\"lh-sm \"><a href=\"https://schaubuehne.eventim-inhouse.de/webshop\">Webshop</a>\n",
      "                                                                            </li>\n",
      "                                                                    <li class=\"lh-sm \"><a href=\"seiten/cards-gutscheine.html\">Cards &amp; Gutscheine</a>\n",
      "                                                                            </li>\n",
      "                                                                    <li class=\"lh-sm \"><a href=\"orte/index-2.html\">Preise</a>\n",
      "                                                                            </li>\n",
      "                                                                    <li class=\"lh-sm \"><a href=\"seiten/faqs-zum-kartenverkauf.html\">FAQ</a>\n",
      "                                                                            </li>\n",
      "                                                            </ul>\n",
      "                                            </div>\n",
      "                                    <div class=\"list-unstyled  dropdown\">\n",
      "                        <span class=\"nav-link p-0 py-1 fs-1 fs-xl-2\">Menschen</span>\n",
      "                                                    <ul class=\"dropdown-menu position-relative pt-0 pe-2 fs-2 fs-xl-3\">\n",
      "                                                                    <li class=\"lh-sm \"><a href=\"ensemblelisten/ensemble.html\">Ensemble</a>\n",
      "                                                                            </li>\n",
      "                                                                    <li class=\"lh-sm \"><a href=\"ensemble/gaeste.html\">Gäste</a>\n",
      "                                                                            </li>\n",
      "                                                                    <li class=\"lh-sm \"><a href=\"seiten/leitung.html\">Leitung</a>\n",
      "                                                                            </li>\n",
      "                                                                    <li class=\"lh-sm \"><a href=\"ensemble/kuenstlerisches-team.html\">Künstlerisches Team</a>\n",
      "                                                                            </li>\n",
      "                                                                    <li class=\"lh-sm \"><a href=\"seiten/mitarbeitende.html\">Mitarbeitende</a>\n",
      "                                                                            </li>\n",
      "                                                            </ul>\n",
      "                                            </div>\n",
      "                                    <div class=\"list-unstyled  dropdown\">\n",
      "                        <span class=\"nav-link p-0 py-1 fs-1 fs-xl-2\">Haus</span>\n",
      "                                                    <ul class=\"dropdown-menu position-relative pt-0 pe-2 fs-2 fs-xl-3\">\n",
      "                                                                    <li class=\"lh-sm \"><a href=\"seiten/profil.html\">Profil</a>\n",
      "                                                                            </li>\n",
      "                                                                    <li class=\"lh-sm \"><a href=\"seiten/geschichte.html\">Geschichte</a>\n",
      "                                                                            </li>\n",
      "                                                                    <li class=\"lh-sm \"><a href=\"seiten/architektur.html\">Architektur</a>\n",
      "                                                                            </li>\n",
      "                                                                    <li class=\"lh-sm \"><a href=\"seiten/nachhaltigkeit.html\">Nachhaltigkeit</a>\n",
      "                                                                            </li>\n",
      "                                                                    <li class=\"lh-sm \"><a href=\"seiten/prospero.html\">Prospero</a>\n",
      "                                                                            </li>\n",
      "                                                                    <li class=\"lh-sm \"><a href=\"seiten/freundeskreis.html\">Freundeskreis</a>\n",
      "                                                                            </li>\n",
      "                                                                    <li class=\"lh-sm \"><a href=\"seiten/partner.html\">Partner</a>\n",
      "                                                                            </li>\n",
      "                                                            </ul>\n",
      "                                            </div>\n",
      "                                    <div class=\"list-unstyled  dropdown\">\n",
      "                        <span class=\"nav-link p-0 py-1 fs-1 fs-xl-2\">Vermittlung</span>\n",
      "                                                    <ul class=\"dropdown-menu position-relative pt-0 pe-2 fs-2 fs-xl-3\">\n",
      "                                                                    <li class=\"lh-sm \"><a href=\"seiten/theaterpaedagogik.html\">Theaterpädagogik</a>\n",
      "                                                                            </li>\n",
      "                                                                    <li class=\"lh-sm \"><a href=\"seiten/workshops.html\">Workshops</a>\n",
      "                                                                            </li>\n",
      "                                                                    <li class=\"lh-sm \"><a href=\"seiten/kooperationen.html\">Kooperationen</a>\n",
      "                                                                            </li>\n",
      "                                                                    <li class=\"lh-sm \"><a href=\"seiten/platz-frei.html\">Platz frei!</a>\n",
      "                                                                            </li>\n",
      "                                                                    <li class=\"lh-sm \"><a href=\"seiten/projekte.html\">Projekte</a>\n",
      "                                                                            </li>\n",
      "                                                                    <li class=\"lh-sm \"><a href=\"seiten/uebertitel.html\">Übertitel</a>\n",
      "                                                                            </li>\n",
      "                                                                    <li class=\"lh-sm \"><a href=\"seiten/audiodeskription.html\">Audiodeskription</a>\n",
      "                                                                            </li>\n",
      "                                                            </ul>\n",
      "                                            </div>\n",
      "                                    <div class=\"list-unstyled  dropdown\">\n",
      "                        <span class=\"nav-link p-0 py-1 fs-1 fs-xl-2\">Mediathek</span>\n",
      "                                                    <ul class=\"dropdown-menu position-relative pt-0 pe-2 fs-2 fs-xl-3\">\n",
      "                                                                    <li class=\"lh-sm \"><a href=\"video/index.html\">Videos</a>\n",
      "                                                                            </li>\n",
      "                                                                    <li class=\"lh-sm \"><a href=\"sounds/index.html\">Podcasts</a>\n",
      "                                                                            </li>\n",
      "                                                                    <li class=\"lh-sm \"><a href=\"seiten/interviews-und-texte.html\">Interviews und Texte</a>\n",
      "                                                                            </li>\n",
      "                                                                    <li class=\"lh-sm \"><a href=\"blog/index.html\">Pearson’s Preview</a>\n",
      "                                                                            </li>\n",
      "                                                                    <li class=\"lh-sm \"><a href=\"bildergalerie/spielzeitkampagnen.html\">Spielzeitkampagnen</a>\n",
      "                                                                            </li>\n",
      "                                                            </ul>\n",
      "                                            </div>\n",
      "                                    <div class=\"list-unstyled  dropdown\">\n",
      "                        <span class=\"nav-link p-0 py-1 fs-1 fs-xl-2\">Service</span>\n",
      "                                                    <ul class=\"dropdown-menu position-relative pt-0 pe-2 fs-2 fs-xl-3\">\n",
      "                                                                    <li class=\"lh-sm \"><a href=\"seiten/ihr-besuch.html\">Besuch</a>\n",
      "                                                                            </li>\n",
      "                                                                    <li class=\"lh-sm \"><a href=\"seiten/kontakt.html\">Kontakt</a>\n",
      "                                                                            </li>\n",
      "                                                                    <li class=\"lh-sm \"><a href=\"presse/index.html\">Presse</a>\n",
      "                                                                            </li>\n",
      "                                                                    <li class=\"lh-sm \"><a href=\"seiten/newsletter.html\">Newsletter</a>\n",
      "                                                                            </li>\n",
      "                                                                    <li class=\"lh-sm \"><a href=\"seiten/barrierefreiheit.html\">Barrierefreiheit</a>\n",
      "                                                                            </li>\n",
      "                                                                    <li class=\"lh-sm \"><a href=\"seiten/caf-schaubuehne.html\">Café</a>\n",
      "                                                                            </li>\n",
      "                                                                    <li class=\"lh-sm \"><a href=\"seiten/stellenangebote.html\">Jobs</a>\n",
      "                                                                            </li>\n",
      "                                                                    <li class=\"lh-sm \"><a href=\"seiten/sensible-inhalte.html\">Sensible Inhalte</a>\n",
      "                                                                            </li>\n",
      "                                                            </ul>\n",
      "                                            </div>\n",
      "                \n",
      "            <span id=\"closeDesktopNavi\" class=\"btn-close p-0 mt-2\"></span>\n",
      "\n",
      "            </div>\n",
      "\n",
      "        </div>\n",
      "    </nav>\n",
      "</div>\n",
      "\n",
      "\t\t<div class=\"main-container\">\n",
      "\t\t\t<div class=\"container-fluid\">\n",
      "\t\t\t\t<div class=\"row\">\n",
      "\t<div class=\"col col-24 col-lg-16 col-xl-18\" id=\"main\">\n",
      "\t\t<div class=\"pe-lg-5\">\n",
      "\n",
      "\t\t\t\t\t\t\t\t\t\t\t\t\t\n",
      "\t\t\t<h1 >Premieren 1. Hälfte 2024/25</h1>\n",
      "\t\t\t\t\t\t\t\t\t\t<h2 class=\"mb-0\">\n",
      "\t<a class=\"no-underline\" href=\"./produktionen/glaube-geld-krieg-und-liebe.html?m=572\" title=\"Glaube, Geld, Krieg und Liebe\">Glaube, Geld, Krieg und Liebe</a>\n",
      "</h2>\n",
      "<div class=\"m-0-in-children\">\n",
      "\t<p>von Robert Lepage <br />In einer &Uuml;bersetzung von Uli Menke <br />Regie: Robert Lepage <br />Urauff&uuml;hrung</p>\n",
      "\t\t\t\t\t\t\t\t\tSaal A\n",
      "\t\t\t<p>Premiere ist am 29. September 2024</p>\n",
      "\t\n",
      "\n",
      "\n",
      "\t\n",
      "</div>\t\t\t\t\t\t\t<h2 class=\"mb-0\">\n",
      "\t<a class=\"no-underline\" href=\"./produktionen/die-entfuehrung-der-amygdala.html?m=572\" title=\"Die Entführung der Amygdala\">Die Entführung der Amygdala</a>\n",
      "</h2>\n",
      "<div class=\"m-0-in-children\">\n",
      "\t<p>von Anna Gschnitzer <br />Regie: Anika Stauch</p>\n",
      "\t\t\t\t\t\t\t\t\tStudio\n",
      "\t\t\t<p>Premiere ist am 14. Oktober 2024</p>\n",
      "\t\n",
      "\n",
      "\n",
      "\t\n",
      "</div>\t\t\t\t\t\t\t<h2 class=\"mb-0\">\n",
      "\t<a class=\"no-underline\" href=\"./produktionen/angriffe-auf-anne.html?m=572\" title=\"Angriffe auf Anne\">Angriffe auf Anne</a>\n",
      "</h2>\n",
      "<div class=\"m-0-in-children\">\n",
      "\t<p>von Martin Crimp <br /><span>In einer &Uuml;bersetzung</span><span>&nbsp;von Falk Richter</span><br />Regie: Lilja Rupprecht</p>\n",
      "\t\t\t\t\t\t\t\t\tGlobe\n",
      "\t\t\t<p>Premiere ist am 30. Oktober 2024</p>\n",
      "\t\n",
      "\n",
      "\n",
      "\t\n",
      "</div>\t\t\t\t\t\t\t<h2 class=\"mb-0\">\n",
      "\t<a class=\"no-underline\" href=\"./produktionen/change.html?m=572\" title=\"change\">change</a>\n",
      "</h2>\n",
      "<div class=\"m-0-in-children\">\n",
      "\t<p>von Maja Zade <br />Regie: Thomas Ostermeier <br />Urauff&uuml;hrung</p>\n",
      "\t\t\t\t\t\t\t\t\t\n",
      "\t\t\t<p>Premiere ist am 30. November 2024</p>\n",
      "\t\n",
      "\n",
      "\n",
      "\t\n",
      "</div>\t\t\t\t\t\t\t<h2 class=\"mb-0\">\n",
      "\t<a class=\"no-underline\" href=\"./produktionen/index-4.html?m=572\" title=\"Replay\">Replay</a>\n",
      "</h2>\n",
      "<div class=\"m-0-in-children\">\n",
      "\t<p>von Yael Ronen <br />In einer &Uuml;bersetzung von Irina Szodruch<br />Regie: Yael Ronen <br />Urauff&uuml;hrung</p>\n",
      "\t\t\t\t\t\t\t\t\t\n",
      "\t\t\t<p>Premiere ist am 14. Dezember 2024</p>\n",
      "\t\n",
      "\n",
      "\n",
      "\t\n",
      "</div>\t\t\t\t\t</div>\n",
      "\t</div>\n",
      "\t<div id=\"sidebar\" class=\" col col-24 col-lg-8 col-xl-6\">\n",
      "\t\t    <h3 class=\"text-uppercase line mb-0\">Archiv</h3>\n",
      "    <ul class=\"list-unstyled m-0 fs-2\">\n",
      "                    <li><a href=\"premieren/index-2023-24.html\" class=\"nav-link p-0 py-1 border-bottom \" >2023/24</a></li>\n",
      "                    <li><a href=\"premieren/2022-23.html\" class=\"nav-link p-0 py-1 border-bottom \" >2022/23</a></li>\n",
      "                    <li><a href=\"spielzeitarchiv/2021-22.html\" class=\"nav-link p-0 py-1 border-bottom \" > 2021/22</a></li>\n",
      "                    <li><a href=\"spielzeitarchiv/2020-21-2.html\" class=\"nav-link p-0 py-1 border-bottom \" >2020/21</a></li>\n",
      "                    <li><a href=\"spielzeitarchiv/2019-20.html\" class=\"nav-link p-0 py-1 border-bottom \" >2019/20</a></li>\n",
      "                    <li><a href=\"spielzeitarchiv/2018-19.html\" class=\"nav-link p-0 py-1 border-bottom \" >2018/19</a></li>\n",
      "                    <li><a href=\"spielzeitarchiv/2017-18.html\" class=\"nav-link p-0 py-1 border-bottom \" >2017/18</a></li>\n",
      "                    <li><a href=\"spielzeitarchiv/2016-17.html\" class=\"nav-link p-0 py-1 border-bottom \" >2016/17</a></li>\n",
      "                    <li><a href=\"spielzeitarchiv/2015-16.html\" class=\"nav-link p-0 py-1 border-bottom \" >2015/16</a></li>\n",
      "                    <li><a href=\"spielzeitarchiv/2014-15.html\" class=\"nav-link p-0 py-1 border-bottom \" >2014/15</a></li>\n",
      "                    <li><a href=\"spielzeitarchiv/2013-14.html\" class=\"nav-link p-0 py-1 border-bottom \" >2013/14</a></li>\n",
      "                    <li><a href=\"spielzeitarchiv/2012-13.html\" class=\"nav-link p-0 py-1 border-bottom \" >2012/13</a></li>\n",
      "                    <li><a href=\"spielzeitarchiv/2011-12.html\" class=\"nav-link p-0 py-1 border-bottom \" >2011/12</a></li>\n",
      "                    <li><a href=\"spielzeitarchiv/2010-11.html\" class=\"nav-link p-0 py-1 border-bottom \" >2010/11</a></li>\n",
      "                    <li><a href=\"spielzeitarchiv/2009-10.html\" class=\"nav-link p-0 py-1 border-bottom \" >2009/10</a></li>\n",
      "                    <li><a href=\"spielzeitarchiv/2008-09.html\" class=\"nav-link p-0 py-1 border-bottom \" >2008/09</a></li>\n",
      "                    <li><a href=\"spielzeitarchiv/2007-08.html\" class=\"nav-link p-0 py-1 border-bottom \" >2007/08</a></li>\n",
      "                    <li><a href=\"spielzeitarchiv/2006-07.html\" class=\"nav-link p-0 py-1 border-bottom \" >2006/07</a></li>\n",
      "                    <li><a href=\"spielzeitarchiv/2005-06.html\" class=\"nav-link p-0 py-1 border-bottom \" >2005/06</a></li>\n",
      "                    <li><a href=\"spielzeitarchiv/2004-05.html\" class=\"nav-link p-0 py-1 border-bottom \" >2004/05</a></li>\n",
      "            </ul>\n",
      "\n",
      "\t</div>\n",
      "</div>\n",
      "\t\t\t</div>\n",
      "\t\t</div>\n",
      "\t</div>\n",
      "\t<div class=\"container-fluid p-0\">\n",
      "\t\t<footer class=\"py-2 fs-4 align-self-end\">\n",
      "\t\t\t<div class=\"main-container\">\n",
      "\t\t\t\t<div class=\"container-fluid\">\n",
      "\t\t\t\t\t<div class=\"row\">\n",
      "\t\t\t\t\t\t<div class=\"col col-24 col-xl-18\">\n",
      "\t\t\t\t\t\t\t<div class=\"row\">\n",
      "\t\t\t\t\t\t\t\t<div class=\"col col-24 col-lg-6 col-lg-6 \">\n",
      "\t\t\t\t\t\t\t\t\tSchaubühne am Lehniner Platz<br />\n",
      "\t\t\t\t\t\t\t\t\tKurfürstendamm 153, 10709 Berlin\n",
      "\t\t\t\t\t\t\t\t</div>\n",
      "\t\t\t\t\t\t\t\t<div class=\"col col-24 col-lg-6 col-lg-6\">\n",
      "\t\t\t\t\t\t\t\t\tTel +49 30 890023<br />\n",
      "\t\t\t\t\t\t\t\t\t<a href=\"mailto:ticket@schaubuehne.de\">ticket@schaubuehne.de</a>\n",
      "\t\t\t\t\t\t\t\t</div>\n",
      "\t\t\t\t\t\t\t\t<div class=\"col col-24 col-lg-12 col-lg-12 mt-3 mt-lg-0\">\n",
      "\t\t\t\t\t\t\t\t\t<div class=\"row\">\n",
      "\n",
      "\t\t\t\t\t\t\t\t\t\t<div class=\"col col-12 col-sm-6 col-xl-8\" id=\"navi3Container\">\n",
      "\t\t\t\t\t\t\t\t\t\t\t<nav id=\"navi3\">\n",
      "\t\t\t\t\t\t\t\t\t\t\t\t    <ul class=\"list-unstyled m-0 \">\n",
      "                    <li><a href=\"seiten/kontakt.html\" class=\"nav-link p-0 py-0 fs-4 \" >Kontakt</a></li>\n",
      "                    <li><a href=\"seiten/newsletter.html\" class=\"nav-link p-0 py-0 fs-4 \" >Newsletter</a></li>\n",
      "            </ul>\n",
      "\n",
      "\t\t\t\t\t\t\t\t\t\t\t</nav>\n",
      "\t\t\t\t\t\t\t\t\t\t</div>\n",
      "\t\t\t\t\t\t\t\t\t\t<div class=\"col col-12 col-sm-6 col-xl-8\" id=\"navi4Container\">\n",
      "\t\t\t\t\t\t\t\t\t\t\t<nav id=\"navi4\">\n",
      "\t\t\t\t\t\t\t\t\t\t\t\t    <ul class=\"list-unstyled m-0 \">\n",
      "                    <li><a href=\"downloads/index.html\" class=\"nav-link p-0 py-0 fs-4 \" >Intern</a></li>\n",
      "                    <li><a href=\"presse/index.html\" class=\"nav-link p-0 py-0 fs-4 \" >Presse</a></li>\n",
      "            </ul>\n",
      "\n",
      "\t\t\t\t\t\t\t\t\t\t\t</nav>\n",
      "\t\t\t\t\t\t\t\t\t\t</div>\n",
      "\t\t\t\t\t\t\t\t\t\t<div class=\"col col-12 col-sm-6 col-xl-8\" id=\"navi5Container\">\n",
      "\t\t\t\t\t\t\t\t\t\t\t<nav id=\"navi5\">\n",
      "\t\t\t\t\t\t\t\t\t\t\t\t    <ul class=\"list-unstyled m-0 \">\n",
      "                    <li><a href=\"seiten/impressum.html\" class=\"nav-link p-0 py-0 fs-4 \" >Impressum</a></li>\n",
      "                    <li><a href=\"seiten/agbs-der-schaubuehne-am-lehniner-platz.html\" class=\"nav-link p-0 py-0 fs-4 \" >AGB</a></li>\n",
      "                    <li><a href=\"seiten/datenschutz.html\" class=\"nav-link p-0 py-0 fs-4 \" >Datenschutz</a></li>\n",
      "            </ul>\n",
      "\n",
      "\t\t\t\t\t\t\t\t\t\t\t</nav>\n",
      "\t\t\t\t\t\t\t\t\t\t</div>\n",
      "\t\t\t\t\t\t\t\t\t\t<div class=\"col col-12 col-sm-6 col-xl-8 order-sm-4 d-xl-none\">\n",
      "\t\t\t\t\t\t\t\t\t\t\t<nav id=\"navi2mobile\">\n",
      "\t\t\t\t\t\t\t\t\t\t\t\t    <ul class=\"list-unstyled w-100 justify-content-between d-xl-flex m-0 ms-xl-auto\">\n",
      "                    <li><a href=\"seiten/schaubuehne-leichte-sprache.html\" class=\"nav-link px-0 px-xl-2 py-0  fs-4 \" >Leichte Sprache</a></li>\n",
      "                    <li><a href=\"seiten/freundeskreis.html\" class=\"nav-link px-0 px-xl-2 py-0  fs-4 \" >Freundeskreis</a></li>\n",
      "                    <li><a href=\"https://schaubuehne.eventim-inhouse.de/webshop/webticket/shop?page=itemgroups\" class=\"nav-link px-0 px-xl-2 py-0  fs-4 \"  target=\"_blank\" >Webshop</a></li>\n",
      "                <li class=\"d-none d-xl-inline\"><a class=\"nav-link p-0 px-xl-1  py-1 py-xl-0\" href=\"./../en/premieres/2024-25.html\">EN</a></li>\n",
      "    </ul>\n",
      "\n",
      "\t\t\t\t\t\t\t\t\t\t\t</nav>\n",
      "\t\t\t\t\t\t\t\t\t\t</div>\n",
      "\t\t\t\t\t\t\t\t\t</div>\n",
      "\t\t\t\t\t\t\t\t</div>\n",
      "\t\t\t\t\t\t\t</div>\n",
      "\t\t\t\t\t\t</div>\n",
      "\t\t\t\t\t\t<div class=\"col col-24 col-xl-6 mt-3 mt-xl-0\"  id=\"navi6Container\">\n",
      "\t\t\t\t\t\t\t<nav id=\"navi6\">\n",
      "\t\t\t\t\t\t\t\t    <ul class=\"list-unstyled m-0 fs-3 fs-xl-4 mb-3 mb-xl-0\">\n",
      "                    <li><a href=\"https://www.facebook.com/pages/Schaubuhne-am-Lehniner-Platz/152904714754135\" class=\"nav-link p-0 py-1 py-xl-0 \" target=\"_blank\">Facebook</a></li>\n",
      "                    <li><a href=\"https://twitter.com/schaubuehne\" class=\"nav-link p-0 py-1 py-xl-0 \" target=\"_blank\">X</a></li>\n",
      "                    <li><a href=\"https://www.instagram.com/schaubuehne_berlin\" class=\"nav-link p-0 py-1 py-xl-0 \" target=\"_blank\">Instagram</a></li>\n",
      "                    <li><a href=\"https://www.youtube.com/user/schaubuehne\" class=\"nav-link p-0 py-1 py-xl-0 \" target=\"_blank\">Youtube</a></li>\n",
      "            </ul>\n",
      "\n",
      "\t\t\t\t\t\t\t</nav>\n",
      "\t\t\t\t\t\t</div>\n",
      "\t\t\t\t\t</div>\n",
      "\t\t\t\t</div>\n",
      "\t\t\t</div>\n",
      "\t\t</footer>\n",
      "\t</div>\n",
      "</div>\n",
      "\n",
      "\n",
      "\t<!-- Piwik -->\n",
      "\t\n",
      "\t<script type=\"text/javascript\">\n",
      "\tvar _paq = _paq || [];\n",
      "\t_paq.push(['trackPageView']);\n",
      "\t_paq.push(['enableLinkTracking']);\n",
      "\t(function() {\n",
      "\t\tvar u=((\"https:\" == document.location.protocol) ? \"https\" : \"http\") + \"://www.schaubuehne.de/stats//\";\n",
      "\t\t_paq.push(['setTrackerUrl', u+'piwik.php']);\n",
      "\t\t_paq.push(['setSiteId', 1]);\n",
      "\t\tvar d=document, g=d.createElement('script'), s=d.getElementsByTagName('script')[0]; g.type='text/javascript';\n",
      "\t\tg.defer=true; g.async=true; g.src=u+'piwik.js'; s.parentNode.insertBefore(g,s);\n",
      "\t})();\n",
      "\t</script>\n",
      "\t<noscript><p><img src=\"https://www.schaubuehne.de/stats/piwik.php?idsite=1\" style=\"border:0\" alt=\"\" /></p></noscript>\n",
      "\t\n",
      "\t<!-- End Piwik Code -->\n",
      "\n",
      "<div id=\"topButton\"></div>\n",
      "\n",
      "<script type=\"text/javascript\" src=\"./../core/defaultTemplates/js/js.cookie.min.js\"></script>\n",
      "\n",
      "<script type=\"text/javascript\" src=\"./../assets/js/bootstrap.bundle.min.js\"></script>\n",
      "\n",
      "<script type=\"text/javascript\" src=\"./../assets/js/slick/slick.min.js\"></script>\n",
      "\n",
      "<script type=\"text/javascript\" src=\"./../assets/js/fancybox/jquery.fancybox.min.js\"></script>\n",
      "<script type=\"text/javascript\" src=\"./../assets/js/jquery.hoverIntent.min.js\"></script>\n",
      "\n",
      "<script type=\"text/javascript\" src=\"./../core/defaultTemplates/js/externeMedienLightboxTwoClick.js\"></script>\n",
      "\n",
      "<script type=\"text/javascript\" src=\"./../assets/js/main.js\"></script>\n",
      "\n",
      "<script type=\"text/javascript\" src=\"https://addsearch.com/js/?key=d02a1d35a08890b7abb9315b2d908c4b\"></script>\n",
      "</body>\n",
      "</html>\n",
      "\n"
     ]
    }
   ],
   "source": [
    "print(sbühne_html)"
   ]
  },
  {
   "cell_type": "code",
   "execution_count": 8,
   "id": "42fbe5cf-89b1-4ed9-ae65-5d9e44275f8c",
   "metadata": {},
   "outputs": [
    {
     "data": {
      "text/plain": [
       "bs4.BeautifulSoup"
      ]
     },
     "execution_count": 8,
     "metadata": {},
     "output_type": "execute_result"
    }
   ],
   "source": [
    "soup = BeautifulSoup(sbühne_html)\n",
    "type(soup)"
   ]
  },
  {
   "cell_type": "markdown",
   "id": "d642e921-25e6-4429-ac69-9b4d46b34cfb",
   "metadata": {},
   "source": [
    "### From the overview page I am scraping the titles"
   ]
  },
  {
   "cell_type": "code",
   "execution_count": 9,
   "id": "fcb024e4-b7f0-4fae-b4b5-8243703c8434",
   "metadata": {},
   "outputs": [],
   "source": [
    "links = soup.select('div.pe-lg-5 h2.mb-0 a.no-underline')"
   ]
  },
  {
   "cell_type": "code",
   "execution_count": 10,
   "id": "2c177040",
   "metadata": {},
   "outputs": [
    {
     "data": {
      "text/plain": [
       "'Glaube, Geld, Krieg und Liebe'"
      ]
     },
     "execution_count": 10,
     "metadata": {},
     "output_type": "execute_result"
    }
   ],
   "source": [
    "links[0].get('title')"
   ]
  },
  {
   "cell_type": "code",
   "execution_count": 11,
   "id": "348413c9",
   "metadata": {},
   "outputs": [
    {
     "name": "stdout",
     "output_type": "stream",
     "text": [
      "['Glaube, Geld, Krieg und Liebe', 'Die Entführung der Amygdala', 'Angriffe auf Anne', 'change', 'Replay']\n"
     ]
    }
   ],
   "source": [
    "titles = [\n",
    "    f\"{link.get('title')}\" \n",
    "    for link in links\n",
    "    ]\n",
    "print(titles)"
   ]
  },
  {
   "cell_type": "markdown",
   "id": "b46706d0",
   "metadata": {},
   "source": [
    "#### Scraping the links"
   ]
  },
  {
   "cell_type": "code",
   "execution_count": 12,
   "id": "c4a67bf8-47da-4fe3-a86d-c841125a76eb",
   "metadata": {},
   "outputs": [
    {
     "data": {
      "text/plain": [
       "'./produktionen/glaube-geld-krieg-und-liebe.html?m=572'"
      ]
     },
     "execution_count": 12,
     "metadata": {},
     "output_type": "execute_result"
    }
   ],
   "source": [
    "links[0].get('href')"
   ]
  },
  {
   "cell_type": "code",
   "execution_count": 13,
   "id": "f38c0195-4ac4-48be-974a-1785b598ff45",
   "metadata": {},
   "outputs": [
    {
     "name": "stdout",
     "output_type": "stream",
     "text": [
      "['https://www.schaubuehne.de/de./produktionen/glaube-geld-krieg-und-liebe.html?m=572', 'https://www.schaubuehne.de/de./produktionen/die-entfuehrung-der-amygdala.html?m=572', 'https://www.schaubuehne.de/de./produktionen/angriffe-auf-anne.html?m=572', 'https://www.schaubuehne.de/de./produktionen/change.html?m=572', 'https://www.schaubuehne.de/de./produktionen/index-4.html?m=572']\n"
     ]
    }
   ],
   "source": [
    "list_links = [\n",
    "    f\"https://www.schaubuehne.de/de{link.get('href')}\" \n",
    "    for link in links\n",
    "    ]\n",
    "print(list_links)"
   ]
  },
  {
   "cell_type": "markdown",
   "id": "a25102c8-cf4e-44f7-a122-2040b72e34f1",
   "metadata": {},
   "source": [
    "#### Scraping the description"
   ]
  },
  {
   "cell_type": "code",
   "execution_count": 14,
   "id": "8599f466-3cc6-4428-b8c1-7102c6768c6d",
   "metadata": {},
   "outputs": [],
   "source": [
    "def get_description(url):\n",
    "    http_response = requests.get (url)\n",
    "    html = http_response.text\n",
    "    soup = BeautifulSoup(html)\n",
    "  \n",
    "    main_container = soup.find('div', class_='col col-24 col-lg-16 col-xl-18')\n",
    "    description_container = main_container.find('div', class_='my-3')\n",
    "\n",
    "    description_paragraphs = description_container.find_all('p')\n",
    "    description = '\\n\\n'.join(p.get_text() for p in description_paragraphs)\n",
    "\n",
    "    return description\n",
    "\n",
    "\n"
   ]
  },
  {
   "cell_type": "code",
   "execution_count": 15,
   "id": "9ecdcec2-8840-4ba3-bc9f-645561bd4236",
   "metadata": {},
   "outputs": [
    {
     "name": "stdout",
     "output_type": "stream",
     "text": [
      "Robert Lepage entwickelt ein neues Stück mit Spieler_innen aus dem Ensemble der Schaubühne. Zu Beginn der Proben gab es keinen Text, keine Geschichte, keine Figuren, nur einen Gegenstand: ein Kartenspiel. Die vier Kartenfarben Herz, Kreuz, Pik und Karo ordnet er der Liebe, dem Glauben, dem Krieg und dem Geld zu. Aus den Karten, ihren Farbfamilien, Figuren und Zahlen entstanden in Improvisationen ganze Welten, unterschiedlichste Figuren und vier miteinander verwobene Handlungsstränge, die sich über acht Jahrzehnte deutscher Geschichte erstrecken. Sie erzählen von Liebe, vom Suchen nach Glück und der Versuchung durch den Teufel, von Hoffnung, Schicksal und Trauma. Kriege markieren immer wieder eine Zäsur, ein Ende und den Neubeginn einer weiteren Geschichte: Kurz nach dem Zweiten Weltkrieg wird ein Baby in einem Nonnenkloster abgegeben und wächst dort auf, um, kaum erwachsen, die junge Bundesrepublik in Richtung Paris zu verlassen. Als sie selbst Zwillinge bekommt, prophezeit ihr eine Tarot-Kartenlegerin Unheil und rät, die Kinder wegzugeben. Kurz nach dem Mauerfall und dem vermeintlichen Ende des Kalten Krieges verbringt ein westdeutsches Paar den Valentinstag in Baden-Baden. Weil man im Casino rauchen darf, verschlägt es die Ehefrau dorthin, wo sie das Glücksspiel für sich entdeckt und das unheilvolle Erbe ihrer Familie verspielt. Ein Soldat mit posttraumatischen Belastungsstörungen erzählt seiner Therapeutin davon, wie er seinen treuesten Kameraden bei einem Einsatz in Afghanistan verlor – einen Diensthund, engster Begleiter und doch aus Sicht des Militärs im Ernstfall nur Teil der Ausrüstung. Und kurz vor Ausbruch des russischen Angriffskrieges in der Ukraine möchte sich ein schwules Paar seinen Kinderwunsch mit einer Leihmutter erfüllen.\n",
      "\n",
      "Robert Lepage wurde 1957 in Québec geboren, wo er bis heute lebt. Mit Inszenierungen für Theater, Oper, Zirkus sowie Filmarbeiten, zählt er seit mehr als drei Jahrzehnten zu den weltweit bedeutendsten Geschichtenerzählern und Theatermachern der Gegenwart. 2022 widmete ihm das FIND einen Fokus und zeigte die legendäre Inszenierung »The Seven Streams of the River Ota« und sein viel beachtetes Solo »887«. Mit »Glaube, Geld, Krieg und Liebe« entwickelt und inszeniert er zum ersten Mal eine Arbeit mit dem Ensemble der Schaubühne.\n",
      "----\n",
      "Sie hat alles im Griff. Den vollzeitfordernden Chef im Teilzeitjob, die pflegebedürftigen Schwiegereltern, den karrierewütigen Ehemann. Ein kotzendes Kind in der Kita? Kein Problem, sie schwingt sich aufs Rad, um den Nachwuchs abzuholen. Leider verliert sie bei all den Baustellen unterwegs den Straßenverkehr aus dem Blick. Ihre Amygdala, im Gehirn für Wut und Angst zuständig und ununterbrochen leise gedreht, versucht noch, ein Alarmsignal zu senden – doch der SUV war schneller und sie liegt nun auf dem Asphalt. Da öffnet sich zwischen dem Leben, wie es bis eben noch war, und dem drohenden Tod ein Spalt, in dem sie und die Amygdala sich auf Raumfahrt begeben. An einen unbekannten Ort, in dem Bedeutungen verschoben, Erwartungen unbekannt und vorgeschriebene Emotionen völlig fremd sind. Am Ende steht die Frage: Folgen ihr diese unbekannten Minis und der merkwürdige Haarige auf den Planeten, auf dem plötzlich alles völlig frei von vorgeprägten Rollenbildern scheint? Oder geht die Reise nur alleine weiter? Regisseurin Anika Stauch schickt Anna Gschnitzers Figuren auf eine Reise hinter die Kulissen des Theaters, welches Elternsein einfordert.\n",
      "\n",
      "Anika Stauch wurde 1993 in Kronach geboren. Sie studierte Theater- und Medienwissenschaften an der Universität Bayreuth. Von 2021 bis 2024 war sie Regieassistentin an der Schaubühne. Sie debütierte 2021 als Regisseurin mit einer Inszenierung von »Im Herzen der Gewalt« am Staatstheater Meiningen. 2022 gewann sie mit ihrem Theaterstück »trail_thielx« den Regienachwuchswettbewerb am Theater Erlangen. 2023 zeigte sie am State Small Theatre of Vilnius in Litauen ihr Stückentwicklung »Bamba (Bauchnabel)«.\n",
      "----\n",
      "Anne. Anya. Annie. Anny. Annushka. International gesuchte Terroristin. Kaltblütige Mörderin. Touristin im Piemont. Künstlerin. Mutter. Liebhaberin. Das Mädchen von nebenan. Physikerin. Filmstar. Jung und alt. Opfer und Täterin. Arm und reich. Wer soll das sein? Ist sie die Eine oder die Andere? Ist sie alle zugleich? Ist alles Imagination? Und wer spricht da über sie: Freunde, Freundinnen, Familie, flüchtige Bekannte, Zeitgenossen, die Gesellschaft, ein Schriftsteller, ein Gott? Aus »17 Szenarien für das Theater«, einer Abfolge vager Spuren und widersprüchlicher Informationen, hat der britische Autor Martin Crimp 1997 das Porträt einer Frau zusammengesetzt, die abwesend bleibt. Spielsequenzen, Choreographien, Filmmaterial, Stim ­ men aus dem Off versuchen ihrer habhaft zu werden und verraten vieles über die, die da sprechen. Wie viele Leben passen in eines? Welche Wirklichkeit gilt, in einer von Bildern und Ereignissen überfluteten, kommodifizierten Welt?\n",
      "\n",
      "Lilja Rupprecht wurde 1984 in Hamburg geboren und arbeitete dort als Regieassistentin am Thalia Theater, bevor sie Theaterregie an der Hochschule für Schauspielkunst »Ernst Busch« in Berlin studierte. Mit ihrer Inszenierung »Clavigo« von Johann Wolfgang von Goethe wurde sie 2012 zum Körber Studio Junge Regie eingeladen. Seither inszenierte sie u. a. am Deutschen Theater Berlin, Schauspiel Frankfurt, Schauspiel Hannover, Schauspiel Köln, RambaZamba Theater Berlin und am Burgtheater Wien. »Angriffe auf Anne« ist nach »Jeff Koons« ihre zweite Arbeit an der Schaubühne.\n",
      "----\n",
      "Berlin, am Morgen, eine Küche. Nina und Mark, die seit über 20 Jahren ein Paar sind, besprechen beim gemeinsamen Frühstück den vor ihnen liegenden Tag. Nina ist Abgeordnete und arbeitet neben ihren vielen anderen Verpflichtungen intensiv daran, eine marode Frauennotunterkunft vor der Schließung zu bewahren. Mark war früher erfolgreicher Wirtschaftsanwalt, hat aber nach einem Burnout auf Grundschullehrer umgesattelt und kämpft darum, sich in seinem neuen Beruf zurecht zu finden. Nach dem Frühstück trennen sich ihre Wege. Nina bricht in die Notunterkunft auf und später ins Büro, wo sie mit unerwarteten Problemen konfrontiert wird, während Mark in die Schule geht und sich in schwierigen Situationen mit Schüler_innen und Eltern wiederfindet … Am Abend, als sich Nina und Mark wieder Zuhause begegnen, haben die Erlebnisse des Tages sowohl sie beide als auch ihre Beziehung zueinander verändert. »change« ist ein Stück über die Schwierigkeit, die Welt zum Besseren zu verändern, und die Anstrengung, sich selbst dabei nicht zu verlieren. Welche Kompromisse kann man eingehen, ohne sich zu kompromittieren? Wie schmal ist der Grat zwischen Erfolg und Scheitern?\n",
      "\n",
      "Thomas Ostermeier inszeniert das neue Stück von Maja Zade, für das Anna Schudt und Jörg Hartmann in das Ensemble der Schaubühne zurückkehren. Die beiden spielen 23 Figuren: Nina und Mark sowie 21 andere, die den Ehepartnern auf ihrem jeweiligen Weg durch den Tag begegnen.\n",
      "----\n",
      "Sowohl die Erd- wie auch die Menschheitsgeschichte werden in Zeitalter eingeteilt, die nach gängigem Verständnis linear aufeinander folgen. Was wäre aber, wenn diese Epochen nicht eine fortschrei tende Entwicklung wären, sondern sich Erfahrungen zyklisch wiederholten? Werden und Vergehen, Geburt und Tod, Aufstieg und Zerfall. Durchlebt auch die menschliche Zivilisation Jahreszeiten? Vielleicht ist der Ablauf von Aufbau und Zerfall nicht nur der Erde und dem Universum, sondern auch der Menschheitsgeschichte eingeschrieben. Diese Möglichkeit, unsere Welt und ihre Geschichte zu betrachten, nimmt Yael Ronen zum Ausgangspunkt ihrer neuesten Stückentwicklung mit dem Ensemble der Schaubühne. Wiederholen sich historische Muster? Warum scheint es, dass sich Phänomene im Verlauf der Jahrhunderte zeitgleich an verschiedenen Orten, unabhängig voneinander ereignen? Wiederholen Generationen zyklisch die Erfahrungen, die andere vor ihnen gemacht haben? Kehren wir immer wieder zurück an die Orte unserer schlimmsten Verletzungen, Traumatisierungen, aber auch zu einer nie wirklich verlorenen Unschuld? In welcher Jahreszeit befindet sich aktuell unsere Gesellschaft?\n",
      "\n",
      "Zuletzt feierte Yael Ronen mit »Bucket List«, einer musikalischen Halluzination über eine überwältigende Gegenwart, in der vergangenen Spielzeit Premiere an der Schaubühne. Der Theaterabend, den sie zusammen mit dem Komponisten und Songwriter Shlomi Shaban entwickelte, wurde zum Theatertreffen 2024 eingeladen.\n",
      "\n",
      "Yael Ronen wurde 1976 in Jerusalem geboren. Sie studierte Szenisches Schreiben am HB Studio in New York und Regie am Seminar HaKibbutzim in Tel Aviv. An der Schaubühne zeigte Yael Ronen zunächst beim FIND ihre in Israel entwickelten Stücke. Zusammen mit dem Ensemble der Schaubühne sowie mit palästi ­ nensischen und israelischen Schauspieler_innen entwickelte sie die Arbeiten »Dritte Generation« (2009) sowie »The Day Before the Last Day« (2011). Von 2015 bis 2023 war sie Hausregisseurin am Maxim Gorki Theater. Seit der Spielzeit 2023/24 inszeniert Yael Ronen wieder regelmäßig an der Schaubühne\n",
      "----\n"
     ]
    }
   ],
   "source": [
    "descriptions = []\n",
    "for link in list_links:\n",
    "    description = get_description(link)\n",
    "    print(description)\n",
    "    descriptions.append(description)\n",
    "    print(\"----\")"
   ]
  },
  {
   "cell_type": "code",
   "execution_count": 16,
   "id": "c9ac3ac6-c278-4efa-8f7a-0f7882bca4aa",
   "metadata": {},
   "outputs": [
    {
     "data": {
      "text/plain": [
       "5"
      ]
     },
     "execution_count": 16,
     "metadata": {},
     "output_type": "execute_result"
    }
   ],
   "source": [
    "len(descriptions)"
   ]
  },
  {
   "cell_type": "code",
   "execution_count": 17,
   "id": "7afa4d0c",
   "metadata": {},
   "outputs": [
    {
     "data": {
      "text/plain": [
       "5"
      ]
     },
     "execution_count": 17,
     "metadata": {},
     "output_type": "execute_result"
    }
   ],
   "source": [
    "len(list_links)"
   ]
  },
  {
   "cell_type": "markdown",
   "id": "a507fd9e-18bd-4a53-a935-8d6878c4cdb0",
   "metadata": {},
   "source": [
    "#### Scraping the director"
   ]
  },
  {
   "cell_type": "code",
   "execution_count": 18,
   "id": "5c6cade1",
   "metadata": {},
   "outputs": [],
   "source": [
    "def get_director(url):\n",
    "    http_response = requests.get (url)\n",
    "    html = http_response.text\n",
    "    soup = BeautifulSoup(html)\n",
    "\n",
    "    director_containers = soup.find_all('div', class_=['my-3', 'my-3 mb-2 fs-4 lh-lg'])\n",
    "    \n",
    "    for container in director_containers:\n",
    "        director_span = container.find('span', string=lambda text: 'Regie' in text)\n",
    "        if director_span:\n",
    "            director = director_span.find_next('a').get_text()\n",
    "            return director\n",
    "       \n",
    "    print(f\"Director not found in {url}\")\n",
    "    return None\n",
    "\n",
    "    \n"
   ]
  },
  {
   "cell_type": "code",
   "execution_count": 19,
   "id": "177b91f2",
   "metadata": {},
   "outputs": [
    {
     "name": "stdout",
     "output_type": "stream",
     "text": [
      "Robert Lepage\n",
      "----\n",
      "Anika  Stauch\n",
      "----\n",
      "Lilja Rupprecht\n",
      "----\n",
      "Thomas Ostermeier\n",
      "----\n",
      "Yael Ronen\n",
      "----\n"
     ]
    }
   ],
   "source": [
    "directors = []\n",
    "for link in list_links:\n",
    "    director = get_director(link)\n",
    "    print(director)\n",
    "    directors.append(director)\n",
    "    print(\"----\")"
   ]
  },
  {
   "cell_type": "code",
   "execution_count": 20,
   "id": "a126dcd0",
   "metadata": {},
   "outputs": [
    {
     "data": {
      "text/plain": [
       "5"
      ]
     },
     "execution_count": 20,
     "metadata": {},
     "output_type": "execute_result"
    }
   ],
   "source": [
    "len(directors)"
   ]
  },
  {
   "cell_type": "markdown",
   "id": "32c73083",
   "metadata": {},
   "source": [
    "#### Scraping the date"
   ]
  },
  {
   "cell_type": "code",
   "execution_count": 21,
   "id": "16d32f20",
   "metadata": {},
   "outputs": [],
   "source": [
    "\n",
    "def get_date(url):\n",
    "    http_response = requests.get (url)\n",
    "    html = http_response.text\n",
    "    soup = BeautifulSoup(html)\n",
    "\n",
    "    date_divs = soup.find_all('div', class_='my-3 fs-4')\n",
    "\n",
    "    for div in date_divs:\n",
    "       \n",
    "        p_tag = div.find('p')\n",
    "        if p_tag and 'Premiere ist am' in p_tag.text:\n",
    "            date_text = p_tag.text.strip().replace('Premiere ist am', '').strip()\n",
    "            return date_text\n",
    " \n",
    "    print(f\"Date not found in {url}\")\n",
    "    return None\n"
   ]
  },
  {
   "cell_type": "code",
   "execution_count": 22,
   "id": "aee3aa18",
   "metadata": {},
   "outputs": [
    {
     "name": "stdout",
     "output_type": "stream",
     "text": [
      "29. September 2024\n",
      "----\n",
      "14. Oktober 2024\n",
      "----\n",
      "30. Oktober 2024\n",
      "----\n",
      "30. November 2024\n",
      "----\n",
      "14. Dezember 2024\n",
      "----\n"
     ]
    }
   ],
   "source": [
    "dates = []\n",
    "for link in list_links:\n",
    "    date = get_date(link)\n",
    "    print(date)\n",
    "    dates.append(date)\n",
    "    print(\"----\")"
   ]
  },
  {
   "cell_type": "code",
   "execution_count": 23,
   "id": "92aee1d4",
   "metadata": {},
   "outputs": [
    {
     "data": {
      "text/plain": [
       "5"
      ]
     },
     "execution_count": 23,
     "metadata": {},
     "output_type": "execute_result"
    }
   ],
   "source": [
    "len(dates)"
   ]
  },
  {
   "cell_type": "markdown",
   "id": "c95b5169",
   "metadata": {},
   "source": [
    "#### Making a dataframe in pandas"
   ]
  },
  {
   "cell_type": "code",
   "execution_count": 24,
   "id": "a5b513e7",
   "metadata": {},
   "outputs": [],
   "source": [
    "sb_24 = pd.DataFrame()\n",
    "\n",
    "sb_24[\"link\"] = list_links\n",
    "sb_24[\"title\"] = titles\n",
    "sb_24[\"director\"] = directors\n",
    "sb_24[\"premiere_date\"] = dates\n",
    "sb_24[\"description\"] = descriptions"
   ]
  },
  {
   "cell_type": "code",
   "execution_count": 25,
   "id": "a65e6fbf",
   "metadata": {},
   "outputs": [
    {
     "data": {
      "text/html": [
       "<div>\n",
       "<style scoped>\n",
       "    .dataframe tbody tr th:only-of-type {\n",
       "        vertical-align: middle;\n",
       "    }\n",
       "\n",
       "    .dataframe tbody tr th {\n",
       "        vertical-align: top;\n",
       "    }\n",
       "\n",
       "    .dataframe thead th {\n",
       "        text-align: right;\n",
       "    }\n",
       "</style>\n",
       "<table border=\"1\" class=\"dataframe\">\n",
       "  <thead>\n",
       "    <tr style=\"text-align: right;\">\n",
       "      <th></th>\n",
       "      <th>link</th>\n",
       "      <th>title</th>\n",
       "      <th>director</th>\n",
       "      <th>premiere_date</th>\n",
       "      <th>description</th>\n",
       "    </tr>\n",
       "  </thead>\n",
       "  <tbody>\n",
       "    <tr>\n",
       "      <th>0</th>\n",
       "      <td>https://www.schaubuehne.de/de./produktionen/gl...</td>\n",
       "      <td>Glaube, Geld, Krieg und Liebe</td>\n",
       "      <td>Robert Lepage</td>\n",
       "      <td>29. September 2024</td>\n",
       "      <td>Robert Lepage entwickelt ein neues Stück mit S...</td>\n",
       "    </tr>\n",
       "    <tr>\n",
       "      <th>1</th>\n",
       "      <td>https://www.schaubuehne.de/de./produktionen/di...</td>\n",
       "      <td>Die Entführung der Amygdala</td>\n",
       "      <td>Anika  Stauch</td>\n",
       "      <td>14. Oktober 2024</td>\n",
       "      <td>Sie hat alles im Griff. Den vollzeitfordernden...</td>\n",
       "    </tr>\n",
       "    <tr>\n",
       "      <th>2</th>\n",
       "      <td>https://www.schaubuehne.de/de./produktionen/an...</td>\n",
       "      <td>Angriffe auf Anne</td>\n",
       "      <td>Lilja Rupprecht</td>\n",
       "      <td>30. Oktober 2024</td>\n",
       "      <td>Anne. Anya. Annie. Anny. Annushka. Internation...</td>\n",
       "    </tr>\n",
       "    <tr>\n",
       "      <th>3</th>\n",
       "      <td>https://www.schaubuehne.de/de./produktionen/ch...</td>\n",
       "      <td>change</td>\n",
       "      <td>Thomas Ostermeier</td>\n",
       "      <td>30. November 2024</td>\n",
       "      <td>Berlin, am Morgen, eine Küche. Nina und Mark, ...</td>\n",
       "    </tr>\n",
       "    <tr>\n",
       "      <th>4</th>\n",
       "      <td>https://www.schaubuehne.de/de./produktionen/in...</td>\n",
       "      <td>Replay</td>\n",
       "      <td>Yael Ronen</td>\n",
       "      <td>14. Dezember 2024</td>\n",
       "      <td>Sowohl die Erd- wie auch die Menschheitsgeschi...</td>\n",
       "    </tr>\n",
       "  </tbody>\n",
       "</table>\n",
       "</div>"
      ],
      "text/plain": [
       "                                                link  \\\n",
       "0  https://www.schaubuehne.de/de./produktionen/gl...   \n",
       "1  https://www.schaubuehne.de/de./produktionen/di...   \n",
       "2  https://www.schaubuehne.de/de./produktionen/an...   \n",
       "3  https://www.schaubuehne.de/de./produktionen/ch...   \n",
       "4  https://www.schaubuehne.de/de./produktionen/in...   \n",
       "\n",
       "                           title           director       premiere_date  \\\n",
       "0  Glaube, Geld, Krieg und Liebe      Robert Lepage  29. September 2024   \n",
       "1    Die Entführung der Amygdala      Anika  Stauch    14. Oktober 2024   \n",
       "2              Angriffe auf Anne    Lilja Rupprecht    30. Oktober 2024   \n",
       "3                         change  Thomas Ostermeier   30. November 2024   \n",
       "4                         Replay         Yael Ronen   14. Dezember 2024   \n",
       "\n",
       "                                         description  \n",
       "0  Robert Lepage entwickelt ein neues Stück mit S...  \n",
       "1  Sie hat alles im Griff. Den vollzeitfordernden...  \n",
       "2  Anne. Anya. Annie. Anny. Annushka. Internation...  \n",
       "3  Berlin, am Morgen, eine Küche. Nina und Mark, ...  \n",
       "4  Sowohl die Erd- wie auch die Menschheitsgeschi...  "
      ]
     },
     "execution_count": 25,
     "metadata": {},
     "output_type": "execute_result"
    }
   ],
   "source": [
    "sb_24"
   ]
  },
  {
   "cell_type": "code",
   "execution_count": 28,
   "id": "9e1e714f",
   "metadata": {},
   "outputs": [],
   "source": [
    "month_map = {\n",
    "    'Januar': '01',\n",
    "    'Februar': '02',\n",
    "    'März': '03',\n",
    "    'April': '04',\n",
    "    'Mai': '05',\n",
    "    'Juni': '06',\n",
    "    'Juli': '07',\n",
    "    'August': '08',\n",
    "    'September': '09',\n",
    "    'Oktober': '10',\n",
    "    'November': '11',\n",
    "    'Dezember': '12'\n",
    "}\n",
    "\n",
    "sb_24['premiere_date'] = sb_24['premiere_date'].replace(month_map, regex=True)"
   ]
  },
  {
   "cell_type": "code",
   "execution_count": 33,
   "id": "1e38b64c",
   "metadata": {},
   "outputs": [],
   "source": [
    "def convert_date(date_str):\n",
    "    date_obj = datetime.strptime(date_str, '%d. %m %Y')\n",
    "    return date_obj.strftime('%d/%m/%Y')\n",
    "\n",
    "sb_24['premiere_date'] = sb_24['premiere_date'].apply(convert_date)"
   ]
  },
  {
   "cell_type": "code",
   "execution_count": 34,
   "id": "80d83cbb",
   "metadata": {},
   "outputs": [
    {
     "data": {
      "text/plain": [
       "0    29/09/2024\n",
       "1    14/10/2024\n",
       "2    30/10/2024\n",
       "3    30/11/2024\n",
       "4    14/12/2024\n",
       "Name: premiere_date, dtype: object"
      ]
     },
     "execution_count": 34,
     "metadata": {},
     "output_type": "execute_result"
    }
   ],
   "source": [
    "sb_24['premiere_date']"
   ]
  },
  {
   "cell_type": "code",
   "execution_count": 35,
   "id": "d1d4339e",
   "metadata": {},
   "outputs": [],
   "source": [
    "sb_24.to_csv(\"sb_24.csv\")"
   ]
  },
  {
   "cell_type": "code",
   "execution_count": null,
   "id": "996904dd",
   "metadata": {},
   "outputs": [],
   "source": []
  }
 ],
 "metadata": {
  "kernelspec": {
   "display_name": "Python 3 (ipykernel)",
   "language": "python",
   "name": "python3"
  },
  "language_info": {
   "codemirror_mode": {
    "name": "ipython",
    "version": 3
   },
   "file_extension": ".py",
   "mimetype": "text/x-python",
   "name": "python",
   "nbconvert_exporter": "python",
   "pygments_lexer": "ipython3",
   "version": "3.11.8"
  }
 },
 "nbformat": 4,
 "nbformat_minor": 5
}
